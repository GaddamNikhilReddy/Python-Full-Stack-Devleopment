{
  "nbformat": 4,
  "nbformat_minor": 0,
  "metadata": {
    "colab": {
      "name": "list.ipynb",
      "provenance": [],
      "collapsed_sections": [],
      "authorship_tag": "ABX9TyNr9OJbwS2WB0ysrhjDQwda",
      "include_colab_link": true
    },
    "kernelspec": {
      "name": "python3",
      "display_name": "Python 3"
    },
    "language_info": {
      "name": "python"
    }
  },
  "cells": [
    {
      "cell_type": "markdown",
      "metadata": {
        "id": "view-in-github",
        "colab_type": "text"
      },
      "source": [
        "<a href=\"https://colab.research.google.com/github/GaddamNikhilReddy/Python-Full-Stack-Devleopment/blob/main/list.ipynb\" target=\"_parent\"><img src=\"https://colab.research.google.com/assets/colab-badge.svg\" alt=\"Open In Colab\"/></a>"
      ]
    },
    {
      "cell_type": "code",
      "source": [
        "list=[\"nikhil\",\"varun\",\"jayanth\"]"
      ],
      "metadata": {
        "id": "_VmBa5BkoiaH"
      },
      "execution_count": 2,
      "outputs": []
    },
    {
      "cell_type": "code",
      "source": [
        "print(list)"
      ],
      "metadata": {
        "colab": {
          "base_uri": "https://localhost:8080/"
        },
        "id": "ZycAPmRDoqbW",
        "outputId": "65a03882-3de3-4b19-edd7-66faa44b5ec1"
      },
      "execution_count": 3,
      "outputs": [
        {
          "output_type": "stream",
          "name": "stdout",
          "text": [
            "['nikhil', 'varun', 'jayanth']\n"
          ]
        }
      ]
    },
    {
      "cell_type": "code",
      "source": [
        "list1=[1,2,3,4]"
      ],
      "metadata": {
        "id": "O47z8NBiqDEI"
      },
      "execution_count": 4,
      "outputs": []
    },
    {
      "cell_type": "code",
      "source": [
        "print(list1[3])"
      ],
      "metadata": {
        "colab": {
          "base_uri": "https://localhost:8080/"
        },
        "id": "Y1DeVCuxqNvp",
        "outputId": "fb1f8370-7c0e-4e4d-9dde-a5f1276dc1e5"
      },
      "execution_count": 5,
      "outputs": [
        {
          "output_type": "stream",
          "name": "stdout",
          "text": [
            "4\n"
          ]
        }
      ]
    },
    {
      "cell_type": "code",
      "source": [
        "list2=[1,10,11,9,5]"
      ],
      "metadata": {
        "id": "--gbm_m8rEMN"
      },
      "execution_count": 8,
      "outputs": []
    },
    {
      "cell_type": "code",
      "source": [
        "print(list2[4])"
      ],
      "metadata": {
        "id": "s3SG8XDArLVi",
        "outputId": "bfc86ac8-a049-4b61-c05a-9270de63af49",
        "colab": {
          "base_uri": "https://localhost:8080/"
        }
      },
      "execution_count": 13,
      "outputs": [
        {
          "output_type": "stream",
          "name": "stdout",
          "text": [
            "5\n"
          ]
        }
      ]
    },
    {
      "cell_type": "code",
      "source": [
        "nested=[\"hiii\",[1,2,3,4],[\"a\"]]"
      ],
      "metadata": {
        "id": "wys0RtW-qZmd"
      },
      "execution_count": 6,
      "outputs": []
    },
    {
      "cell_type": "code",
      "source": [
        "print(nested[1])"
      ],
      "metadata": {
        "id": "DtYsUOEirnhQ",
        "outputId": "f441609c-26b9-4c66-821e-c04a12c9280d",
        "colab": {
          "base_uri": "https://localhost:8080/"
        }
      },
      "execution_count": 15,
      "outputs": [
        {
          "output_type": "stream",
          "name": "stdout",
          "text": [
            "[1, 2, 3, 4]\n"
          ]
        }
      ]
    },
    {
      "cell_type": "code",
      "source": [
        "print(nested[1][3])"
      ],
      "metadata": {
        "id": "qKYAOYslqjAZ",
        "outputId": "e5e41b06-6944-465c-ea24-3348d6aef826",
        "colab": {
          "base_uri": "https://localhost:8080/"
        }
      },
      "execution_count": 7,
      "outputs": [
        {
          "output_type": "stream",
          "name": "stdout",
          "text": [
            "4\n"
          ]
        }
      ]
    },
    {
      "cell_type": "code",
      "source": [
        "print(list[2])"
      ],
      "metadata": {
        "id": "e6lVH2l2rfN2",
        "outputId": "e8dbf01e-b24b-4db2-b63b-8870d32b8e0d",
        "colab": {
          "base_uri": "https://localhost:8080/"
        }
      },
      "execution_count": 14,
      "outputs": [
        {
          "output_type": "stream",
          "name": "stdout",
          "text": [
            "jayanth\n"
          ]
        }
      ]
    },
    {
      "cell_type": "code",
      "source": [
        "print(list+nested)"
      ],
      "metadata": {
        "id": "J2OFCOqIryH2",
        "outputId": "5cab1e89-9623-4f78-a552-b2e7e63b083d",
        "colab": {
          "base_uri": "https://localhost:8080/"
        }
      },
      "execution_count": 16,
      "outputs": [
        {
          "output_type": "stream",
          "name": "stdout",
          "text": [
            "['nikhil', 'varun', 'jayanth', 'hiii', [1, 2, 3, 4], ['a']]\n"
          ]
        }
      ]
    }
  ]
}