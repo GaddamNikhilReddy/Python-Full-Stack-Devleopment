{
  "nbformat": 4,
  "nbformat_minor": 0,
  "metadata": {
    "colab": {
      "name": "list2.ipynb",
      "provenance": [],
      "authorship_tag": "ABX9TyOtVlHgyJ4AjhR3LhBX77GV",
      "include_colab_link": true
    },
    "kernelspec": {
      "name": "python3",
      "display_name": "Python 3"
    },
    "language_info": {
      "name": "python"
    }
  },
  "cells": [
    {
      "cell_type": "markdown",
      "metadata": {
        "id": "view-in-github",
        "colab_type": "text"
      },
      "source": [
        "<a href=\"https://colab.research.google.com/github/GaddamNikhilReddy/Python-Full-Stack-Devleopment/blob/main/list2.ipynb\" target=\"_parent\"><img src=\"https://colab.research.google.com/assets/colab-badge.svg\" alt=\"Open In Colab\"/></a>"
      ]
    },
    {
      "cell_type": "markdown",
      "source": [
        "NEGATIVE INDEXING"
      ],
      "metadata": {
        "id": "Jn1eX_x_IEen"
      }
    },
    {
      "cell_type": "code",
      "execution_count": 30,
      "metadata": {
        "colab": {
          "base_uri": "https://localhost:8080/"
        },
        "id": "hlZ3RZHlDavB",
        "outputId": "02b0472c-b543-4f0e-9085-ee05d0c8a2c5"
      },
      "outputs": [
        {
          "output_type": "stream",
          "name": "stdout",
          "text": [
            "5\n"
          ]
        }
      ],
      "source": [
        "list=[1,2,3,4,5,6,7,8,9]\n",
        "print(list[-5])"
      ]
    },
    {
      "cell_type": "markdown",
      "source": [
        "SLICING IN PHYTHON"
      ],
      "metadata": {
        "id": "Q73fswcoIJns"
      }
    },
    {
      "cell_type": "code",
      "source": [
        "list2=['N','I','K','H','I','L','R','E','D','D','Y']\n",
        "print(list2[0:6])"
      ],
      "metadata": {
        "colab": {
          "base_uri": "https://localhost:8080/"
        },
        "id": "Nsa1uBYdEFUE",
        "outputId": "aa996075-ae2d-40b4-c78a-be1646cff48d"
      },
      "execution_count": 5,
      "outputs": [
        {
          "output_type": "stream",
          "name": "stdout",
          "text": [
            "['N', 'I', 'K', 'H', 'I', 'L']\n"
          ]
        }
      ]
    },
    {
      "cell_type": "code",
      "source": [
        "print(list2[:])"
      ],
      "metadata": {
        "colab": {
          "base_uri": "https://localhost:8080/"
        },
        "id": "-4P_ZB-vEzwZ",
        "outputId": "31d30bb2-79a8-463b-f4ad-f83216791077"
      },
      "execution_count": 6,
      "outputs": [
        {
          "output_type": "stream",
          "name": "stdout",
          "text": [
            "['N', 'I', 'K', 'H', 'I', 'L', 'R', 'E', 'D', 'D', 'Y']\n"
          ]
        }
      ]
    },
    {
      "cell_type": "markdown",
      "source": [
        "APPEND"
      ],
      "metadata": {
        "id": "dZ_Uz6jSITB9"
      }
    },
    {
      "cell_type": "code",
      "source": [
        "my=[1,4,3]\n",
        "my.append(1)\n",
        "print(my)"
      ],
      "metadata": {
        "colab": {
          "base_uri": "https://localhost:8080/"
        },
        "id": "l3McKn5HE4DQ",
        "outputId": "594be7ed-85f4-4194-ab6b-0d57f0327df6"
      },
      "execution_count": 8,
      "outputs": [
        {
          "output_type": "stream",
          "name": "stdout",
          "text": [
            "[1, 4, 3, 1]\n"
          ]
        }
      ]
    },
    {
      "cell_type": "markdown",
      "source": [
        "EXTEND"
      ],
      "metadata": {
        "id": "A0HnNtjBIWfb"
      }
    },
    {
      "cell_type": "code",
      "source": [
        "my.extend([4,3])\n",
        "print(my)"
      ],
      "metadata": {
        "colab": {
          "base_uri": "https://localhost:8080/"
        },
        "id": "WKC9BQRHFRDB",
        "outputId": "16f4ccf1-3d3f-4458-b367-354bdbddf3b1"
      },
      "execution_count": 9,
      "outputs": [
        {
          "output_type": "stream",
          "name": "stdout",
          "text": [
            "[1, 4, 3, 1, 4, 3]\n"
          ]
        }
      ]
    },
    {
      "cell_type": "markdown",
      "source": [
        "INSERT"
      ],
      "metadata": {
        "id": "l-PRWNPLIY9K"
      }
    },
    {
      "cell_type": "code",
      "source": [
        "my.insert(3,6)\n",
        "print(my)"
      ],
      "metadata": {
        "colab": {
          "base_uri": "https://localhost:8080/"
        },
        "id": "X3EB1as3FcgV",
        "outputId": "8c94dbc6-334b-4e9c-ec3b-867020e9fb83"
      },
      "execution_count": 10,
      "outputs": [
        {
          "output_type": "stream",
          "name": "stdout",
          "text": [
            "[1, 4, 3, 6, 1, 4, 3]\n"
          ]
        }
      ]
    },
    {
      "cell_type": "markdown",
      "source": [
        "DELETE"
      ],
      "metadata": {
        "id": "VsqkKCcCIcJj"
      }
    },
    {
      "cell_type": "code",
      "source": [
        "del my[3]\n",
        "print(my)"
      ],
      "metadata": {
        "colab": {
          "base_uri": "https://localhost:8080/"
        },
        "id": "1sH-e-eDF2wK",
        "outputId": "813aacda-9b68-4504-ec20-3487910c98c3"
      },
      "execution_count": 12,
      "outputs": [
        {
          "output_type": "stream",
          "name": "stdout",
          "text": [
            "[1, 4, 3, 1, 4, 3]\n"
          ]
        }
      ]
    }
  ]
}